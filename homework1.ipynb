{
 "cells": [
  {
   "cell_type": "code",
   "execution_count": 39,
   "metadata": {},
   "outputs": [],
   "source": [
    "%matplotlib inline\n",
    "\n",
    "import matplotlib.pyplot as plt\n",
    "import networkx as nx\n",
    "import scipy as sp\n",
    "from networkx.algorithms import bipartite"
   ]
  },
  {
   "cell_type": "markdown",
   "metadata": {},
   "source": [
    "# Homework\n",
    "## Question 1\n",
    "a. The adjacency matrix of network (a)"
   ]
  },
  {
   "cell_type": "code",
   "execution_count": 40,
   "metadata": {},
   "outputs": [
    {
     "name": "stdout",
     "output_type": "stream",
     "text": [
      "[[0 0 1 0 0]\n",
      " [1 0 0 1 0]\n",
      " [0 1 0 1 0]\n",
      " [0 0 0 0 0]\n",
      " [1 0 1 0 0]]\n"
     ]
    }
   ],
   "source": [
    "G = nx.DiGraph()\n",
    "G.add_edges_from([(1,3),(2,1),(2,4),(3,2),(3,4),(5,1),(5,3)])\n",
    "A = nx.adjacency_matrix(G,list([1,2,3,4,5]))\n",
    "matA = A.todense()\n",
    "print(matA)\n"
   ]
  },
  {
   "cell_type": "code",
   "execution_count": null,
   "metadata": {},
   "outputs": [],
   "source": []
  },
  {
   "cell_type": "markdown",
   "metadata": {},
   "source": [
    "b. The incidence matrix of network (b). (Here, let the white circle 1-4 to be renamed as a,b,c,d)"
   ]
  },
  {
   "cell_type": "code",
   "execution_count": 41,
   "metadata": {},
   "outputs": [
    {
     "name": "stdout",
     "output_type": "stream",
     "text": [
      "[[1 0 1 0 0]\n",
      " [0 1 1 0 0]\n",
      " [0 0 0 1 0]\n",
      " [0 1 1 1 1]]\n"
     ]
    }
   ],
   "source": [
    "B = nx.Graph()\n",
    "B.add_nodes_from([1, 2, 3, 4,5], bipartite=0)\n",
    "\n",
    "B.add_nodes_from([\"a\", \"b\", \"c\"], bipartite=1)\n",
    "\n",
    "B.add_edges_from([(1,\"a\"),(2,\"b\"),(2,\"d\"),(3,\"a\"),(3,\"b\"),(3,\"d\"),(4,\"c\"),(4,\"d\"),(5,\"d\")])\n",
    "BI= bipartite.biadjacency_matrix(B,row_order=[\"a\",\"b\",\"c\",\"d\"])\n",
    "matB = BI.todense()\n",
    "print(matB)\n"
   ]
  },
  {
   "cell_type": "markdown",
   "metadata": {},
   "source": [
    "c. The projection matrix (eq: 6.10) for the projection of network (b) onto its black nodes."
   ]
  },
  {
   "cell_type": "code",
   "execution_count": 42,
   "metadata": {},
   "outputs": [
    {
     "name": "stdout",
     "output_type": "stream",
     "text": [
      "[[0 0 1 0 0]\n",
      " [0 0 1 1 1]\n",
      " [1 1 0 1 1]\n",
      " [0 1 1 0 1]\n",
      " [0 1 1 1 0]]\n"
     ]
    }
   ],
   "source": [
    "G = bipartite.projected_graph(B, [1, 2,3,4,5])\n",
    "A = nx.adjacency_matrix(G,list([1,2,3,4,5]))\n",
    "matA = A.todense()\n",
    "print(matA)"
   ]
  },
  {
   "cell_type": "markdown",
   "metadata": {},
   "source": [
    "## Question 2\n",
    "a. the total number of edges ingoing to vertices 1 ... ​r:  \n",
    "$In_r=\\displaystyle \\sum_1^r(k^{in}_i)$  \n",
    "the total number of edges outgoing from vertices 1 ... ​r:  \n",
    "$out_r=\\displaystyle \\sum_1^r(k^{out}_i)$  "
   ]
  },
  {
   "cell_type": "markdown",
   "metadata": {},
   "source": [
    "b. an expression for the total number of edges running to vertices 1 ... ​r ​from\n",
    "vertices ​r ​+ 1 ... ​n​:  \n",
    "$p_r=\\displaystyle \\sum_1^r(k^{in}_i)-\\displaystyle \\sum_1^r(k^{out}_i)$ "
   ]
  },
  {
   "cell_type": "markdown",
   "metadata": {},
   "source": [
    "c. $\\displaystyle \\sum_{r+1}^n(k^{out}_i-k^{in}_i)=\\\\\n",
    "   \\displaystyle \\sum_{1}^n(k^{out}_i-k^{in}_i)-\\displaystyle \\sum_{1}^r(k^{out}_i-k^{in}_i)\\\\ =0-\\displaystyle \\sum_{1}^r(k^{out}_i-k^{in}_i)\\\\=p_r$   \n",
    "   As the $p_r$ includes the in degrees $k_r^{in}$ and other edges ingoing to 1..r-1 from r+1...n. So the left inequality is satisified.  \n",
    "   Similarly, $p_r$ includes out degrees $k_r+1^{out}$ and other edges outgoing from vertices r+2...n to 1...r. So:  the right inequality is satisfied, too.\n",
    "   \n",
    "   "
   ]
  },
  {
   "cell_type": "markdown",
   "metadata": {},
   "source": [
    "## Question 3\n",
    "For bipartite network, the total degrees of one group is the same as that of another group. $c_2*n_2$ is the total degrees of type2 while $c_1*n_1$ is the total degrees of type1. So $c_2*n_2=c_1*n_1$. Then $c_2={{n_1}\\over{n_2}}c_1$. "
   ]
  },
  {
   "cell_type": "markdown",
   "metadata": {},
   "source": [
    "## Question 4\n",
    "I don't figure out it."
   ]
  }
 ],
 "metadata": {
  "kernelspec": {
   "display_name": "Python 3",
   "language": "python",
   "name": "python3"
  },
  "language_info": {
   "codemirror_mode": {
    "name": "ipython",
    "version": 3
   },
   "file_extension": ".py",
   "mimetype": "text/x-python",
   "name": "python",
   "nbconvert_exporter": "python",
   "pygments_lexer": "ipython3",
   "version": "3.8.3"
  }
 },
 "nbformat": 4,
 "nbformat_minor": 4
}
