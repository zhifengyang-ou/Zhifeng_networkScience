{
 "cells": [
  {
   "cell_type": "markdown",
   "metadata": {
    "id": "ocU4znTVhUQr"
   },
   "source": [
    "# CS 5482 Network Science"
   ]
  },
  {
   "cell_type": "markdown",
   "metadata": {
    "id": "EA2w6p9FheB-"
   },
   "source": [
    "## Project 2 Fall 2020"
   ]
  },
  {
   "cell_type": "markdown",
   "metadata": {
    "id": "u0Wd6_f6hhlg"
   },
   "source": [
    "### Due: 10th Oct 2020 at 9 AM"
   ]
  },
  {
   "cell_type": "markdown",
   "metadata": {
    "id": "KuEWWIASlY6_"
   },
   "source": [
    "### Quesiton 1:"
   ]
  },
  {
   "cell_type": "code",
   "execution_count": 58,
   "metadata": {},
   "outputs": [],
   "source": [
    "# Required Header\n",
    "%matplotlib inline\n",
    "\n",
    "import matplotlib.pyplot as plt\n",
    "import networkx as nx\n",
    "import numpy as ny\n",
    "from random import sample "
   ]
  },
  {
   "cell_type": "markdown",
   "metadata": {
    "id": "rIhNmhUbjYIq"
   },
   "source": [
    "a) Generate a random directed 20 node graph with degree densities 0.1, 0.2 and 0.3 - G1, G2 and G3.\n",
    "\n"
   ]
  },
  {
   "cell_type": "code",
   "execution_count": 2,
   "metadata": {
    "id": "rUkTwB3hkhN2"
   },
   "outputs": [],
   "source": [
    "G1 = nx.fast_gnp_random_graph(20,0.1,directed=True)\n",
    "G2 = nx.fast_gnp_random_graph(20,0.2,directed=True)\n",
    "G3 = nx.fast_gnp_random_graph(20,0.3,directed=True)\n"
   ]
  },
  {
   "cell_type": "markdown",
   "metadata": {
    "id": "e1in4xzzkMYy"
   },
   "source": [
    "---\n",
    "\n",
    "\n",
    "b) Find the number of strongly connected components in each of the three graphs.\n",
    "\n"
   ]
  },
  {
   "cell_type": "code",
   "execution_count": 5,
   "metadata": {
    "id": "hYBVAnwihY3M"
   },
   "outputs": [
    {
     "name": "stdout",
     "output_type": "stream",
     "text": [
      "The numbers in G1, G2, and G3 are 10 2 1\n"
     ]
    }
   ],
   "source": [
    "s1 = nx.number_strongly_connected_components(G1)\n",
    "s2 = nx.number_strongly_connected_components(G2)\n",
    "s3 = nx.number_strongly_connected_components(G3)\n",
    "print(\"The numbers in G1, G2, and G3 are\",s1,s2,s3)"
   ]
  },
  {
   "cell_type": "markdown",
   "metadata": {
    "id": "MvsmaUDLknWo"
   },
   "source": [
    "---\n",
    "\n",
    "\n",
    "c) Label each of the strongly connected components. Construct a new set of graphs(H1, H2 and H3) such that each component in G is a node in H and if there is an arc from a component to another in G, then it will connect the corresponding nodes in H. \n",
    "\n",
    "What are the properties of the constructed graph H?\n",
    "The constructed graph H has no strongly conneted components with 2 or more nodes accroding to the number of components in it."
   ]
  },
  {
   "cell_type": "code",
   "execution_count": 12,
   "metadata": {
    "id": "ZQ4Iy7Lpl6f5"
   },
   "outputs": [
    {
     "name": "stdout",
     "output_type": "stream",
     "text": [
      "The numbers of components in H1, H2, and H3 are 10 2 1\n"
     ]
    }
   ],
   "source": [
    "H1=nx.condensation(G1, scc=None)\n",
    "H2=nx.condensation(G2, scc=None)\n",
    "H3=nx.condensation(G3, scc=None)\n",
    "s1 = nx.number_strongly_connected_components(H1)\n",
    "s2 = nx.number_strongly_connected_components(H2)\n",
    "s3 = nx.number_strongly_connected_components(H3)\n",
    "print(\"The numbers of components in H1, H2, and H3 are\",s1,s2,s3)"
   ]
  },
  {
   "cell_type": "markdown",
   "metadata": {
    "id": "wGRUEbE0l9WN"
   },
   "source": [
    "\n",
    "\n",
    "---\n",
    "\n",
    "\n",
    "\n",
    "---\n",
    "\n",
    "\n",
    "\n",
    "---\n",
    "\n",
    "\n",
    "### Question 2:"
   ]
  },
  {
   "cell_type": "markdown",
   "metadata": {
    "id": "chJRAAMpovaF"
   },
   "source": [
    "a) Generate a random **undirected** 20 node graph with degree densities 0.1, 0.2 and 0.3 - G1, G2 and G3."
   ]
  },
  {
   "cell_type": "code",
   "execution_count": 15,
   "metadata": {
    "id": "QaE4L2z9pcgp"
   },
   "outputs": [],
   "source": [
    "G1 = nx.fast_gnp_random_graph(20,0.1,directed=False)\n",
    "G2 = nx.fast_gnp_random_graph(20,0.2,directed=False)\n",
    "G3 = nx.fast_gnp_random_graph(20,0.3,directed=False)"
   ]
  },
  {
   "cell_type": "markdown",
   "metadata": {
    "id": "QFCXsF-WpdSj"
   },
   "source": [
    "\n",
    "\n",
    "\n",
    "---\n",
    "\n",
    "\n",
    "b) Find the graph Laplacian(L) for G1, G2 and G3 by finding diagonal matrix(D) and the adjacency matrix(A). "
   ]
  },
  {
   "cell_type": "code",
   "execution_count": 53,
   "metadata": {
    "id": "qMsdfLzwq8Zk"
   },
   "outputs": [],
   "source": [
    "D1=ny.diag([n for d,n in list(G1.degree(list(G1)))])\n",
    "D2=ny.diag([n for d,n in list(G2.degree(list(G2)))])\n",
    "D3=ny.diag([n for d,n in list(G3.degree(list(G3)))])\n",
    "\n",
    "A1= nx.adjacency_matrix(G1)\n",
    "A2= nx.adjacency_matrix(G2)\n",
    "A3= nx.adjacency_matrix(G3)\n",
    "\n",
    "L1=D1-A1\n",
    "L2=D2-A2\n",
    "L3=D3-A3"
   ]
  },
  {
   "cell_type": "code",
   "execution_count": 54,
   "metadata": {},
   "outputs": [
    {
     "data": {
      "text/plain": [
       "matrix([[ 3,  0,  0,  0,  0,  0,  0,  0,  0, -1,  0,  0,  0, -1,  0,  0,\n",
       "          0,  0, -1,  0],\n",
       "        [ 0,  2,  0,  0,  0,  0,  0,  0,  0,  0,  0,  0,  0,  0, -1, -1,\n",
       "          0,  0,  0,  0],\n",
       "        [ 0,  0,  1,  0,  0,  0,  0,  0, -1,  0,  0,  0,  0,  0,  0,  0,\n",
       "          0,  0,  0,  0],\n",
       "        [ 0,  0,  0,  4,  0,  0, -1,  0, -1, -1,  0,  0,  0,  0, -1,  0,\n",
       "          0,  0,  0,  0],\n",
       "        [ 0,  0,  0,  0,  0,  0,  0,  0,  0,  0,  0,  0,  0,  0,  0,  0,\n",
       "          0,  0,  0,  0],\n",
       "        [ 0,  0,  0,  0,  0,  0,  0,  0,  0,  0,  0,  0,  0,  0,  0,  0,\n",
       "          0,  0,  0,  0],\n",
       "        [ 0,  0,  0, -1,  0,  0,  2,  0,  0,  0,  0, -1,  0,  0,  0,  0,\n",
       "          0,  0,  0,  0],\n",
       "        [ 0,  0,  0,  0,  0,  0,  0,  2, -1,  0,  0,  0,  0,  0,  0,  0,\n",
       "         -1,  0,  0,  0],\n",
       "        [ 0,  0, -1, -1,  0,  0,  0, -1,  3,  0,  0,  0,  0,  0,  0,  0,\n",
       "          0,  0,  0,  0],\n",
       "        [-1,  0,  0, -1,  0,  0,  0,  0,  0,  2,  0,  0,  0,  0,  0,  0,\n",
       "          0,  0,  0,  0],\n",
       "        [ 0,  0,  0,  0,  0,  0,  0,  0,  0,  0,  0,  0,  0,  0,  0,  0,\n",
       "          0,  0,  0,  0],\n",
       "        [ 0,  0,  0,  0,  0,  0, -1,  0,  0,  0,  0,  1,  0,  0,  0,  0,\n",
       "          0,  0,  0,  0],\n",
       "        [ 0,  0,  0,  0,  0,  0,  0,  0,  0,  0,  0,  0,  1,  0, -1,  0,\n",
       "          0,  0,  0,  0],\n",
       "        [-1,  0,  0,  0,  0,  0,  0,  0,  0,  0,  0,  0,  0,  1,  0,  0,\n",
       "          0,  0,  0,  0],\n",
       "        [ 0, -1,  0, -1,  0,  0,  0,  0,  0,  0,  0,  0, -1,  0,  3,  0,\n",
       "          0,  0,  0,  0],\n",
       "        [ 0, -1,  0,  0,  0,  0,  0,  0,  0,  0,  0,  0,  0,  0,  0,  1,\n",
       "          0,  0,  0,  0],\n",
       "        [ 0,  0,  0,  0,  0,  0,  0, -1,  0,  0,  0,  0,  0,  0,  0,  0,\n",
       "          1,  0,  0,  0],\n",
       "        [ 0,  0,  0,  0,  0,  0,  0,  0,  0,  0,  0,  0,  0,  0,  0,  0,\n",
       "          0,  0,  0,  0],\n",
       "        [-1,  0,  0,  0,  0,  0,  0,  0,  0,  0,  0,  0,  0,  0,  0,  0,\n",
       "          0,  0,  1,  0],\n",
       "        [ 0,  0,  0,  0,  0,  0,  0,  0,  0,  0,  0,  0,  0,  0,  0,  0,\n",
       "          0,  0,  0,  0]])"
      ]
     },
     "execution_count": 54,
     "metadata": {},
     "output_type": "execute_result"
    }
   ],
   "source": [
    "L1"
   ]
  },
  {
   "cell_type": "markdown",
   "metadata": {
    "id": "GOJbTlGLq82V"
   },
   "source": [
    "---\n",
    "\n",
    "\n",
    "c) Perform graph partitioning by finding the cut size R using the formula in the equation 6.37 from the book. Reference material given. "
   ]
  },
  {
   "cell_type": "code",
   "execution_count": 195,
   "metadata": {
    "id": "uTYME7oZrREC"
   },
   "outputs": [],
   "source": [
    "def partition(L):\n",
    "    R_min=10000\n",
    "\n",
    "    for j in range(1,10000):\n",
    "        x=ny.array([1])\n",
    "        for i in range(1,20):\n",
    "            x=ny.append(x,[sample([-1,1],1)])\n",
    "        R=1/4*x@L@x.transpose()\n",
    "        if R<R_min:\n",
    "            R_min=R\n",
    "            best_x=x\n",
    "        elif R==R_min:\n",
    "            if best_x.ndim==1:\n",
    "                best_x=ny.append([best_x],[x],axis=0)\n",
    "            else:\n",
    "                best_x=ny.append(best_x,[x],axis=0)\n",
    "    print(\"The minium cut size R for L in 10000 random test is \", R_min.item(0))\n",
    "    if best_x.ndim>1:\n",
    "        for i in range(0,best_x.ndim):\n",
    "            print(\"The best two groups for L are\", ny.where(best_x[i] == 1)[0],ny.where(best_x[i] == -1)[0],\"or\")\n",
    "\n",
    "    else:    \n",
    "        print(\"The best two groups for L are\", ny.where(best_x == 1)[0],ny.where(best_x == -1)[0])"
   ]
  },
  {
   "cell_type": "code",
   "execution_count": 196,
   "metadata": {},
   "outputs": [
    {
     "name": "stdout",
     "output_type": "stream",
     "text": [
      "The minium cut size R for L in 10000 random test is  1.0\n",
      "The best two groups for L are [ 0  1  2  3  4  5  6  7  8  9 11 12 13 14 15 16 19] [10 17 18] or\n",
      "The best two groups for L are [ 0  1  2  3  4  5  6  7  8  9 11 12 14 15 16 17 18 19] [10 13] or\n"
     ]
    }
   ],
   "source": [
    "partition(L1)"
   ]
  },
  {
   "cell_type": "code",
   "execution_count": 197,
   "metadata": {},
   "outputs": [
    {
     "name": "stdout",
     "output_type": "stream",
     "text": [
      "The minium cut size R for L in 10000 random test is  4.0\n",
      "The best two groups for L are [ 0  1 13] [ 2  3  4  5  6  7  8  9 10 11 12 14 15 16 17 18 19]\n"
     ]
    }
   ],
   "source": [
    "partition(L2)"
   ]
  },
  {
   "cell_type": "code",
   "execution_count": 202,
   "metadata": {},
   "outputs": [
    {
     "name": "stdout",
     "output_type": "stream",
     "text": [
      "The minium cut size R for L in 10000 random test is  10.0\n",
      "The best two groups for L are [ 0  1  2  3  4  6  7  8  9 10 11 12 13 14 15 17 18 19] [ 5 16]\n"
     ]
    }
   ],
   "source": [
    "partition(L3)"
   ]
  },
  {
   "cell_type": "code",
   "execution_count": null,
   "metadata": {},
   "outputs": [],
   "source": []
  },
  {
   "cell_type": "code",
   "execution_count": null,
   "metadata": {},
   "outputs": [],
   "source": []
  }
 ],
 "metadata": {
  "colab": {
   "name": "proejct2.ipynb",
   "provenance": []
  },
  "kernelspec": {
   "display_name": "Python 3",
   "language": "python",
   "name": "python3"
  },
  "language_info": {
   "codemirror_mode": {
    "name": "ipython",
    "version": 3
   },
   "file_extension": ".py",
   "mimetype": "text/x-python",
   "name": "python",
   "nbconvert_exporter": "python",
   "pygments_lexer": "ipython3",
   "version": "3.8.3"
  }
 },
 "nbformat": 4,
 "nbformat_minor": 1
}
