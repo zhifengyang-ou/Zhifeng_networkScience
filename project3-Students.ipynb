{
 "cells": [
  {
   "cell_type": "markdown",
   "metadata": {},
   "source": [
    "# CS 5482 Network Science\n",
    "## Project 3\n",
    "## Due: 24 Oct 2020 at 9 AM\n"
   ]
  },
  {
   "cell_type": "markdown",
   "metadata": {},
   "source": [
    "### Question 1: Centrality Measures\n",
    "\n",
    "a) Create a random undirected graph G with 30 nodes and probability 0.3\n"
   ]
  },
  {
   "cell_type": "code",
   "execution_count": 53,
   "metadata": {},
   "outputs": [],
   "source": [
    "# Required Header\n",
    "%matplotlib inline\n",
    "\n",
    "import matplotlib.pyplot as plt\n",
    "import networkx as nx\n",
    "import numpy as np\n",
    "import time as time"
   ]
  },
  {
   "cell_type": "code",
   "execution_count": 3,
   "metadata": {},
   "outputs": [],
   "source": [
    "G=nx.fast_gnp_random_graph(30, 0.3, seed=None, directed=False)"
   ]
  },
  {
   "cell_type": "markdown",
   "metadata": {},
   "source": [
    "b) Compute the degree centrality two ways, \n",
    "\n",
    "1. Using Networkx library.\n",
    "2. Write code to fetch the degrees of the node."
   ]
  },
  {
   "cell_type": "code",
   "execution_count": 5,
   "metadata": {},
   "outputs": [
    {
     "data": {
      "text/plain": [
       "{0: 0.41379310344827586,\n",
       " 1: 0.3103448275862069,\n",
       " 2: 0.41379310344827586,\n",
       " 3: 0.3448275862068966,\n",
       " 4: 0.3103448275862069,\n",
       " 5: 0.20689655172413793,\n",
       " 6: 0.20689655172413793,\n",
       " 7: 0.3103448275862069,\n",
       " 8: 0.3103448275862069,\n",
       " 9: 0.3448275862068966,\n",
       " 10: 0.3103448275862069,\n",
       " 11: 0.3793103448275862,\n",
       " 12: 0.4482758620689655,\n",
       " 13: 0.3793103448275862,\n",
       " 14: 0.4482758620689655,\n",
       " 15: 0.4482758620689655,\n",
       " 16: 0.3448275862068966,\n",
       " 17: 0.3793103448275862,\n",
       " 18: 0.3103448275862069,\n",
       " 19: 0.3448275862068966,\n",
       " 20: 0.13793103448275862,\n",
       " 21: 0.27586206896551724,\n",
       " 22: 0.3448275862068966,\n",
       " 23: 0.10344827586206896,\n",
       " 24: 0.27586206896551724,\n",
       " 25: 0.3448275862068966,\n",
       " 26: 0.41379310344827586,\n",
       " 27: 0.41379310344827586,\n",
       " 28: 0.3448275862068966,\n",
       " 29: 0.3103448275862069}"
      ]
     },
     "execution_count": 5,
     "metadata": {},
     "output_type": "execute_result"
    }
   ],
   "source": [
    "Degree_centrality=nx.degree_centrality(G)\n",
    "Degree_centrality"
   ]
  },
  {
   "cell_type": "code",
   "execution_count": 26,
   "metadata": {},
   "outputs": [
    {
     "data": {
      "text/plain": [
       "{0: 0.41379310344827586,\n",
       " 1: 0.3103448275862069,\n",
       " 2: 0.41379310344827586,\n",
       " 3: 0.3448275862068966,\n",
       " 4: 0.3103448275862069,\n",
       " 5: 0.20689655172413793,\n",
       " 6: 0.20689655172413793,\n",
       " 7: 0.3103448275862069,\n",
       " 8: 0.3103448275862069,\n",
       " 9: 0.3448275862068966,\n",
       " 10: 0.3103448275862069,\n",
       " 11: 0.3793103448275862,\n",
       " 12: 0.4482758620689655,\n",
       " 13: 0.3793103448275862,\n",
       " 14: 0.4482758620689655,\n",
       " 15: 0.4482758620689655,\n",
       " 16: 0.3448275862068966,\n",
       " 17: 0.3793103448275862,\n",
       " 18: 0.3103448275862069,\n",
       " 19: 0.3448275862068966,\n",
       " 20: 0.13793103448275862,\n",
       " 21: 0.27586206896551724,\n",
       " 22: 0.3448275862068966,\n",
       " 23: 0.10344827586206896,\n",
       " 24: 0.27586206896551724,\n",
       " 25: 0.3448275862068966,\n",
       " 26: 0.41379310344827586,\n",
       " 27: 0.41379310344827586,\n",
       " 28: 0.3448275862068966,\n",
       " 29: 0.3103448275862069}"
      ]
     },
     "execution_count": 26,
     "metadata": {},
     "output_type": "execute_result"
    }
   ],
   "source": [
    "degree=dict()\n",
    "degree_centrality=dict()\n",
    "for i in range(0,30):\n",
    "    n=0\n",
    "    for a,b in G.edges():\n",
    "        if i==a:\n",
    "            n+=1\n",
    "        if i==b:\n",
    "            n+=1\n",
    "    degree[i]=float(n)\n",
    "    degree_centrality[i]=float(n)/29\n",
    "\n",
    "degree_centrality"
   ]
  },
  {
   "cell_type": "markdown",
   "metadata": {},
   "source": [
    "c) Compute Eigen Vector Centrality for graph G.\n",
    "\n",
    "1. Using Networkx library.\n",
    "2. Write code to find the position of the largest eigenvalue and the eigenvectors of the graph\n"
   ]
  },
  {
   "cell_type": "code",
   "execution_count": 27,
   "metadata": {},
   "outputs": [
    {
     "data": {
      "text/plain": [
       "{0: 0.22076065628801902,\n",
       " 1: 0.17995000257973215,\n",
       " 2: 0.20941130947664705,\n",
       " 3: 0.1910154347082581,\n",
       " 4: 0.16548529538946438,\n",
       " 5: 0.11511133653480562,\n",
       " 6: 0.11253410423262254,\n",
       " 7: 0.15908397631056095,\n",
       " 8: 0.17728493039685006,\n",
       " 9: 0.1768932806284269,\n",
       " 10: 0.16505790662788875,\n",
       " 11: 0.17982856452470306,\n",
       " 12: 0.23955225915101336,\n",
       " 13: 0.2050941416331636,\n",
       " 14: 0.22899596119527238,\n",
       " 15: 0.2403538551621382,\n",
       " 16: 0.18528256430181883,\n",
       " 17: 0.20506368372309286,\n",
       " 18: 0.16982234933084264,\n",
       " 19: 0.1925024905233733,\n",
       " 20: 0.08509363816217295,\n",
       " 21: 0.14530507404664325,\n",
       " 22: 0.17656182128911638,\n",
       " 23: 0.053130643364751005,\n",
       " 24: 0.1479807866370241,\n",
       " 25: 0.17617019966622421,\n",
       " 26: 0.23739508844172563,\n",
       " 27: 0.2310550028652267,\n",
       " 28: 0.18484462914788483,\n",
       " 29: 0.16278767619379259}"
      ]
     },
     "execution_count": 27,
     "metadata": {},
     "output_type": "execute_result"
    }
   ],
   "source": [
    "centrality = nx.eigenvector_centrality_numpy(G)\n",
    "centrality"
   ]
  },
  {
   "cell_type": "code",
   "execution_count": 39,
   "metadata": {},
   "outputs": [
    {
     "data": {
      "text/plain": [
       "{0: 0.22076065628801902,\n",
       " 1: 0.17995000257973215,\n",
       " 2: 0.20941130947664705,\n",
       " 3: 0.1910154347082581,\n",
       " 4: 0.16548529538946438,\n",
       " 5: 0.11511133653480562,\n",
       " 6: 0.11253410423262254,\n",
       " 7: 0.15908397631056095,\n",
       " 8: 0.17728493039685006,\n",
       " 9: 0.1768932806284269,\n",
       " 10: 0.16505790662788875,\n",
       " 11: 0.17982856452470306,\n",
       " 12: 0.23955225915101336,\n",
       " 13: 0.2050941416331636,\n",
       " 14: 0.22899596119527238,\n",
       " 15: 0.2403538551621382,\n",
       " 16: 0.18528256430181883,\n",
       " 17: 0.20506368372309286,\n",
       " 18: 0.16982234933084264,\n",
       " 19: 0.1925024905233733,\n",
       " 20: 0.08509363816217295,\n",
       " 21: 0.14530507404664325,\n",
       " 22: 0.17656182128911638,\n",
       " 23: 0.053130643364751005,\n",
       " 24: 0.1479807866370241,\n",
       " 25: 0.17617019966622421,\n",
       " 26: 0.23739508844172563,\n",
       " 27: 0.2310550028652267,\n",
       " 28: 0.18484462914788483,\n",
       " 29: 0.16278767619379259}"
      ]
     },
     "execution_count": 39,
     "metadata": {},
     "output_type": "execute_result"
    }
   ],
   "source": [
    "A=nx.to_numpy_array(G)\n",
    "w,v=np.linalg.eigh(A)\n",
    "centraliy=v[1]\n",
    "centrality"
   ]
  },
  {
   "cell_type": "markdown",
   "metadata": {},
   "source": [
    "## Question 2) Algorithms\n",
    "\n",
    "In this question you will read a graph from the edgelist file, the file consits of (u, v, w). Where (u, v) represents the edge, and w represents the weight of the edge."
   ]
  },
  {
   "cell_type": "code",
   "execution_count": 90,
   "metadata": {},
   "outputs": [
    {
     "data": {
      "text/plain": [
       "(46, 132)"
      ]
     },
     "execution_count": 90,
     "metadata": {},
     "output_type": "execute_result"
    }
   ],
   "source": [
    "# Read unweighted graph\n",
    "import numpy as np\n",
    "import networkx as nx\n",
    "def read_graph(filename):\n",
    "    G = nx.Graph()\n",
    "    array = np.loadtxt(filename, dtype=int)\n",
    "    G.add_edges_from(array[:,:2])\n",
    "    return G\n",
    "\n",
    "# Read weighted graph\n",
    "def read_graph_weighted(filename):\n",
    "    G = nx.Graph()\n",
    "    array = np.loadtxt(filename, dtype=int)\n",
    "    G.add_weighted_edges_from(array)\n",
    "    return G\n",
    "\n",
    "\n",
    "fb = read_graph('data.txt')\n",
    "n = len(fb)\n",
    "m = len(fb.edges())\n",
    "n, m"
   ]
  },
  {
   "cell_type": "markdown",
   "metadata": {},
   "source": [
    "a). Compute all pair shortest path using the Floyd-Warshall algorithm mentioned in the class (powerpoint). (You may use networkx only for verification).\n",
    "- Compare the time required to execute your algorithm with the networkx library\n",
    "- Compute the algorithm for the graph provided as well as the facebook graph from snap (http://snap.stanford.edu/data/ego-Facebook.html)\n",
    "- Make sure to use .gz file to load the data, do not uncompress."
   ]
  },
  {
   "cell_type": "code",
   "execution_count": 91,
   "metadata": {},
   "outputs": [
    {
     "name": "stdout",
     "output_type": "stream",
     "text": [
      "Time usage for my codes is 0.11602592468261719\n"
     ]
    },
    {
     "data": {
      "text/plain": [
       "3"
      ]
     },
     "execution_count": 91,
     "metadata": {},
     "output_type": "execute_result"
    }
   ],
   "source": [
    "start = time.time()\n",
    "\n",
    "D = np.repeat(9999, n*n).reshape(n,n)\n",
    "if nx.is_weighted(fb):\n",
    "    for i,j in fb.edges():\n",
    "        D[i][j]=fb[i][j]['weight']\n",
    "        D[j][i]=fb[j][i]['weight']\n",
    "\n",
    "else:\n",
    "    for i,j in fb.edges():\n",
    "        D[i][j]=1\n",
    "        D[j][i]=1\n",
    "for k in range(n):\n",
    "    for i in range(n):\n",
    "        for j in range(n):\n",
    "            if D [i][j] > (D [i][k]+ D [k][j]):\n",
    "                D [i][j] = D [i][k] + D [k][j]\n",
    "\n",
    "\n",
    "end = time.time()\n",
    "print(\"Time usage for my codes is\",end-start)\n",
    "D[1][38]"
   ]
  },
  {
   "cell_type": "code",
   "execution_count": 92,
   "metadata": {},
   "outputs": [
    {
     "name": "stdout",
     "output_type": "stream",
     "text": [
      "Time usage for networkx function is 0.018003463745117188\n"
     ]
    },
    {
     "data": {
      "text/plain": [
       "3.0"
      ]
     },
     "execution_count": 92,
     "metadata": {},
     "output_type": "execute_result"
    }
   ],
   "source": [
    "start = time.time()\n",
    "D2=nx.floyd_warshall(fb)\n",
    "\n",
    "end = time.time()\n",
    "print(\"Time usage for networkx function is\",end-start)\n",
    "D2[1][38]"
   ]
  },
  {
   "cell_type": "code",
   "execution_count": 106,
   "metadata": {},
   "outputs": [
    {
     "data": {
      "text/plain": [
       "(500, 4337)"
      ]
     },
     "execution_count": 106,
     "metadata": {},
     "output_type": "execute_result"
    }
   ],
   "source": [
    "fb = read_graph('facebook_combined.txt.gz')\n",
    "## The original graph is too big for calculating\n",
    "fb=nx.subgraph(fb,range(500))\n",
    "n = len(fb)\n",
    "m = len(fb.edges())\n",
    "\n",
    "n, m"
   ]
  },
  {
   "cell_type": "code",
   "execution_count": 107,
   "metadata": {},
   "outputs": [
    {
     "name": "stdout",
     "output_type": "stream",
     "text": [
      "Time usage for my codes is 135.08847784996033\n"
     ]
    },
    {
     "data": {
      "text/plain": [
       "2"
      ]
     },
     "execution_count": 107,
     "metadata": {},
     "output_type": "execute_result"
    }
   ],
   "source": [
    "start = time.time()\n",
    "\n",
    "D = np.repeat(9999, n*n).reshape(n,n)\n",
    "if nx.is_weighted(fb):\n",
    "    for i,j in fb.edges():\n",
    "        D[i][j]=fb[i][j]['weight']\n",
    "        D[j][i]=fb[j][i]['weight']\n",
    "\n",
    "else:\n",
    "    for i,j in fb.edges():\n",
    "        D[i][j]=1\n",
    "        D[j][i]=1\n",
    "for k in range(n):\n",
    "    for i in range(n):\n",
    "        for j in range(n):\n",
    "            if D [i][j] > (D [i][k]+ D [k][j]):\n",
    "                D [i][j] = D [i][k] + D [k][j]\n",
    "\n",
    "\n",
    "end = time.time()\n",
    "print(\"Time usage for my codes is\",end-start)\n",
    "D[1][38]"
   ]
  },
  {
   "cell_type": "code",
   "execution_count": 108,
   "metadata": {},
   "outputs": [
    {
     "name": "stdout",
     "output_type": "stream",
     "text": [
      "Time usage for networkx function is 51.45316481590271\n"
     ]
    },
    {
     "data": {
      "text/plain": [
       "2.0"
      ]
     },
     "execution_count": 108,
     "metadata": {},
     "output_type": "execute_result"
    }
   ],
   "source": [
    "start = time.time()\n",
    "D2=nx.floyd_warshall(fb)\n",
    "\n",
    "end = time.time()\n",
    "print(\"Time usage for networkx function is\",end-start)\n",
    "D2[1][38]"
   ]
  },
  {
   "cell_type": "markdown",
   "metadata": {},
   "source": [
    "b). Compute the average path length of each node obtained by the Floyd-Warshall algorithm and plot a bar chart to represent the average path length on y-axis and the node number on the x-axis.\n",
    "\n",
    "(You can use the networkx library to obtain the path of each node)"
   ]
  },
  {
   "cell_type": "code",
   "execution_count": 109,
   "metadata": {},
   "outputs": [
    {
     "data": {
      "image/png": "[encoded data removed]",
      "text/plain": [
       "<Figure size 432x288 with 1 Axes>"
      ]
     },
     "metadata": {
      "needs_background": "light"
     },
     "output_type": "display_data"
    }
   ],
   "source": [
    "average_path=[]\n",
    "for i in range(n):\n",
    "    sum=0\n",
    "    for j in range(n):\n",
    "        sum=sum+D2[i][j]\n",
    "    average_path.append(sum/(n-1))\n",
    "\n",
    "\n",
    "x=[n for n in fb.nodes()]\n",
    "plt.bar(x,average_path)\n",
    "plt.grid(axis='y', alpha=0.75)\n",
    "plt.xlabel('Nodes')\n",
    "plt.ylabel('Average path lengh')\n",
    "plt.show()"
   ]
  },
  {
   "cell_type": "code",
   "execution_count": 99,
   "metadata": {},
   "outputs": [],
   "source": []
  }
 ],
 "metadata": {
  "kernelspec": {
   "display_name": "Python 3",
   "language": "python",
   "name": "python3"
  },
  "language_info": {
   "codemirror_mode": {
    "name": "ipython",
    "version": 3
   },
   "file_extension": ".py",
   "mimetype": "text/x-python",
   "name": "python",
   "nbconvert_exporter": "python",
   "pygments_lexer": "ipython3",
   "version": "3.8.3"
  }
 },
 "nbformat": 4,
 "nbformat_minor": 4
}
