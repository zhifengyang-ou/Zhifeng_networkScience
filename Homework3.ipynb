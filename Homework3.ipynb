{
 "cells": [
  {
   "attachments": {},
   "cell_type": "markdown",
   "metadata": {},
   "source": [
    "## Question 1\n",
    "a. Floyd’s algorithm.\n",
    "b. Depth First Search Algorithm.\n",
    "c. augmenting path algorithm of Ford and Fulkerson\n",
    "\n",
    "## Question 2\n",
    "a. O(n).\n",
    "b. O(n^2).\n",
    "c. O(m+nlogm)\n",
    "d. O((m + n)m/n)\n",
    "\n",
    "## Question 3\n",
    "a. 1\n",
    "\n",
    "b. dL or $ln(n)L/ln(L+1)$\n",
    "\n",
    "c. $k(1+k-1)+(k-1)^2+...+(k-1)^{d-1}）=n \\\\\n",
    "     \\frac{(k-1)^d-1}{k-2}k=n \\\\\n",
    "     So: d= ln(\\frac{n(k-2)}{k}+1)/ln(k-1)$\n",
    "     The diameter:$2d=2ln(\\frac{n(k-2)}{k}+1)/ln(k-1)$\n",
    "     \n",
    "d. All there network are.\n",
    "\n",
    "## Question 4\n",
    "\n"
   ]
  },
  {
   "cell_type": "code",
   "execution_count": 21,
   "metadata": {},
   "outputs": [],
   "source": [
    "import numpy as np\n",
    "a=[16,17,10,26,13,14,28,45,10,13,12,10,136,16,25,36,12,14,22,10]\n"
   ]
  },
  {
   "cell_type": "code",
   "execution_count": 22,
   "metadata": {},
   "outputs": [],
   "source": [
    "sum=0\n",
    "N=20\n",
    "for i in a:\n",
    "    sum=sum+np.log(i/(10-1/2))\n",
    "alpha=1+N*(sum)**(-1)"
   ]
  },
  {
   "cell_type": "code",
   "execution_count": 23,
   "metadata": {},
   "outputs": [
    {
     "data": {
      "text/plain": [
       "2.5216325745167225"
      ]
     },
     "execution_count": 23,
     "metadata": {},
     "output_type": "execute_result"
    }
   ],
   "source": [
    "alpha"
   ]
  },
  {
   "cell_type": "code",
   "execution_count": 24,
   "metadata": {},
   "outputs": [
    {
     "data": {
      "text/plain": [
       "0.3402473873397406"
      ]
     },
     "execution_count": 24,
     "metadata": {},
     "output_type": "execute_result"
    }
   ],
   "source": [
    "sigma=(alpha-1)/np.sqrt(N)\n",
    "sigma"
   ]
  },
  {
   "cell_type": "markdown",
   "metadata": {},
   "source": [
    "The $\\alpha$ is 2.52; The error is 0.34."
   ]
  },
  {
   "cell_type": "markdown",
   "metadata": {},
   "source": [
    "## Question 5\n",
    "a. The right network is scale free because its log-log plot is nearly straight so that it follows the power law.  \n",
    "b. When the degree is 1000, the frequency is 0.0001. So the $\\alpha=-ln(0.0001)/ln(1000)+1=2.333$"
   ]
  },
  {
   "cell_type": "code",
   "execution_count": 25,
   "metadata": {},
   "outputs": [
    {
     "data": {
      "text/plain": [
       "2.333333333333333"
      ]
     },
     "execution_count": 25,
     "metadata": {},
     "output_type": "execute_result"
    }
   ],
   "source": [
    "-np.log(0.0001)/np.log(1000)+1"
   ]
  },
  {
   "cell_type": "code",
   "execution_count": 26,
   "metadata": {},
   "outputs": [
    {
     "data": {
      "text/plain": [
       "0.062370040112628575"
      ]
     },
     "execution_count": 26,
     "metadata": {},
     "output_type": "execute_result"
    }
   ],
   "source": [
    "np.exp(np.log(0.5)/(2.333-2)*(2.333-1))"
   ]
  },
  {
   "cell_type": "markdown",
   "metadata": {},
   "source": [
    "c. according to $W=P^{(\\alpha-2)(\\alpha-1)}$. ~6% of highest-degree nodes have a half of all the edge-ends."
   ]
  },
  {
   "cell_type": "code",
   "execution_count": null,
   "metadata": {},
   "outputs": [],
   "source": []
  },
  {
   "cell_type": "code",
   "execution_count": null,
   "metadata": {},
   "outputs": [],
   "source": []
  }
 ],
 "metadata": {
  "kernelspec": {
   "display_name": "Python 3",
   "language": "python",
   "name": "python3"
  },
  "language_info": {
   "codemirror_mode": {
    "name": "ipython",
    "version": 3
   },
   "file_extension": ".py",
   "mimetype": "text/x-python",
   "name": "python",
   "nbconvert_exporter": "python",
   "pygments_lexer": "ipython3",
   "version": "3.8.3"
  }
 },
 "nbformat": 4,
 "nbformat_minor": 4
}
