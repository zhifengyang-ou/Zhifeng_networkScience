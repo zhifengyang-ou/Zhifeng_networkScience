{
 "cells": [
  {
   "cell_type": "markdown",
   "metadata": {},
   "source": [
    "# Project 4\n",
    "## CS 5483\n",
    "## Due 13 Nov at 9 am"
   ]
  },
  {
   "cell_type": "markdown",
   "metadata": {},
   "source": [
    "#### Question 1: Module 7 -- Real world networks and features"
   ]
  },
  {
   "cell_type": "markdown",
   "metadata": {},
   "source": [
    "1.a) Read the graph from http://networkrepository.com/ca-Erdos992.php"
   ]
  },
  {
   "cell_type": "code",
   "execution_count": 4,
   "metadata": {},
   "outputs": [],
   "source": [
    "\n",
    "import networkx as nx\n",
    "import numpy as np\n",
    "import matplotlib.pyplot as plt\n",
    "\n"
   ]
  },
  {
   "cell_type": "code",
   "execution_count": 5,
   "metadata": {},
   "outputs": [],
   "source": [
    "\n",
    "G=nx.read_edgelist('ca-Erdos992.mtx',comments=\"%\")"
   ]
  },
  {
   "cell_type": "markdown",
   "metadata": {},
   "source": [
    "1.b) For the given graph compute the degree distribution. (Do not use networkx library to compute the distribution)"
   ]
  },
  {
   "cell_type": "code",
   "execution_count": 6,
   "metadata": {},
   "outputs": [
    {
     "name": "stdout",
     "output_type": "stream",
     "text": [
      "70.6713780918728% of the nodes have 1 degrees\n",
      "12.426383981154299% of the nodes have 2 degrees\n",
      "4.495484884177463% of the nodes have 3 degrees\n",
      "2.37534354142128% of the nodes have 4 degrees\n",
      "1.315272870043188% of the nodes have 5 degrees\n",
      "0.7852375343541421% of the nodes have 6 degrees\n",
      "0.5889281507656066% of the nodes have 7 degrees\n",
      "0.43188064389477815% of the nodes have 8 degrees\n",
      "0.3337259521005104% of the nodes have 9 degrees\n",
      "0.3729878288182175% of the nodes have 10 degrees\n"
     ]
    }
   ],
   "source": [
    "def degrees(G):\n",
    "    \"\"\"List of degrees for nodes in `G`.\n",
    "    \n",
    "    G: Graph object\n",
    "    \n",
    "    returns: list of int\n",
    "    \"\"\"\n",
    "    return [G.degree(u) for u in G]\n",
    "from empiricaldist import Pmf ## pip install empiricaldist - PMF - Probability Mass Function\n",
    "pmf_G = Pmf.from_seq(degrees(G))\n",
    "for i in range (1,11):\n",
    "    print(f\"{pmf_G[i]*100}% of the nodes have {i} degrees\")"
   ]
  },
  {
   "cell_type": "markdown",
   "metadata": {},
   "source": [
    "1.c) Plot a log-log graph of the distribution where x-axis represents log of degrees, and the y-axis represents log of frequency of the degrees. Does the plot show a linear decay?"
   ]
  },
  {
   "cell_type": "code",
   "execution_count": 7,
   "metadata": {},
   "outputs": [
    {
     "data": {
      "image/png": "[encoded data removed]",
      "text/plain": [
       "<Figure size 432x288 with 1 Axes>"
      ]
     },
     "metadata": {
      "needs_background": "light"
     },
     "output_type": "display_data"
    }
   ],
   "source": [
    "fig, ax = plt.subplots()\n",
    "ax.plot(range(1,len(pmf_G)+1), pmf_G)\n",
    "\n",
    "ax.set(xlabel='degrees', ylabel='frequency of degrees')\n",
    "ax.set_xscale(\"log\", nonpositive='clip')\n",
    "ax.set_yscale(\"log\", nonpositive='clip')\n",
    "\n",
    "\n",
    "plt.show()\n"
   ]
  },
  {
   "cell_type": "code",
   "execution_count": null,
   "metadata": {},
   "outputs": [],
   "source": [
    "\n"
   ]
  },
  {
   "cell_type": "markdown",
   "metadata": {},
   "source": [
    "1.d) Determine alpha in the power law distribution using the equation\n",
    "\n",
    " alpha = 1 + n/(summation ln 𝑥_𝑖/(𝑥_min−1/2))\n",
    " - i ranges from 0 to number of degrees\n",
    " - where n in number of degrees\n",
    " - x_i is each degree in the degree array\n",
    " - x_min is the minimum degree"
   ]
  },
  {
   "cell_type": "code",
   "execution_count": 8,
   "metadata": {},
   "outputs": [
    {
     "data": {
      "text/plain": [
       "1.8886098882422728"
      ]
     },
     "execution_count": 8,
     "metadata": {},
     "output_type": "execute_result"
    }
   ],
   "source": [
    "SUM=0\n",
    "for i in range(len(degrees(G))):\n",
    "    SUM=np.log(degrees(G)[i]/(1-1/2))+SUM\n",
    "\n",
    "alpha=1+len(degrees(G))/SUM\n",
    "alpha"
   ]
  },
  {
   "cell_type": "markdown",
   "metadata": {},
   "source": [
    "#### Question 2: Module 8 -- Random graphs\n",
    "*You may use networkx library*"
   ]
  },
  {
   "cell_type": "markdown",
   "metadata": {},
   "source": [
    "2.a) Construct 5 random undirected graph with n = 1000, and probability 0.01, 0.1, 0.2, 0.3, 0.5 as G1, G2, G3, G4, and G5. Then find the size of the largest connected component. \n",
    "\n",
    "**Note : Use different seed value for each graph.**"
   ]
  },
  {
   "cell_type": "markdown",
   "metadata": {},
   "source": [
    "__Note：The probability is set lower for proper size of largest connected components__"
   ]
  },
  {
   "cell_type": "code",
   "execution_count": 9,
   "metadata": {},
   "outputs": [],
   "source": [
    "\n",
    "G1=nx.gnp_random_graph(n=1000, p=0.0001, seed=1, directed=False)\n",
    "G2=nx.gnp_random_graph(n=1000, p=0.001, seed=2, directed=False)\n",
    "G3=nx.gnp_random_graph(n=1000, p=0.002, seed=3, directed=False)\n",
    "G4=nx.gnp_random_graph(n=1000, p=0.003, seed=4, directed=False)\n",
    "G5=nx.gnp_random_graph(n=1000, p=0.005, seed=5, directed=False)"
   ]
  },
  {
   "cell_type": "code",
   "execution_count": 10,
   "metadata": {},
   "outputs": [
    {
     "data": {
      "text/plain": [
       "4"
      ]
     },
     "execution_count": 10,
     "metadata": {},
     "output_type": "execute_result"
    }
   ],
   "source": [
    "G1_c=[len(c) for c in sorted(nx.connected_components(G1), key=len, reverse=True)][0]\n",
    "\n",
    "G1_c"
   ]
  },
  {
   "cell_type": "code",
   "execution_count": 11,
   "metadata": {},
   "outputs": [
    {
     "data": {
      "text/plain": [
       "47"
      ]
     },
     "execution_count": 11,
     "metadata": {},
     "output_type": "execute_result"
    }
   ],
   "source": [
    "G2_c=[len(c) for c in sorted(nx.connected_components(G2), key=len, reverse=True)][0]\n",
    "\n",
    "G2_c"
   ]
  },
  {
   "cell_type": "code",
   "execution_count": 12,
   "metadata": {},
   "outputs": [
    {
     "data": {
      "text/plain": [
       "783"
      ]
     },
     "execution_count": 12,
     "metadata": {},
     "output_type": "execute_result"
    }
   ],
   "source": [
    "G3_c=[len(c) for c in sorted(nx.connected_components(G3), key=len, reverse=True)][0]\n",
    "\n",
    "G3_c"
   ]
  },
  {
   "cell_type": "code",
   "execution_count": 13,
   "metadata": {},
   "outputs": [
    {
     "data": {
      "text/plain": [
       "934"
      ]
     },
     "execution_count": 13,
     "metadata": {},
     "output_type": "execute_result"
    }
   ],
   "source": [
    "G4_c=[len(c) for c in sorted(nx.connected_components(G4), key=len, reverse=True)][0]\n",
    "\n",
    "G4_c"
   ]
  },
  {
   "cell_type": "code",
   "execution_count": 14,
   "metadata": {},
   "outputs": [
    {
     "data": {
      "text/plain": [
       "994"
      ]
     },
     "execution_count": 14,
     "metadata": {},
     "output_type": "execute_result"
    }
   ],
   "source": [
    "G5_c=[len(c) for c in sorted(nx.connected_components(G5), key=len, reverse=True)][0]\n",
    "\n",
    "G5_c"
   ]
  },
  {
   "cell_type": "markdown",
   "metadata": {},
   "source": [
    "2.b) Plot the following\n",
    "\n",
    "- x-axis probablity\n",
    "- y-axis largest connected component\n",
    "\n",
    "and infer what does increase in probablity mean with respect to the largest connected component\n"
   ]
  },
  {
   "cell_type": "code",
   "execution_count": 15,
   "metadata": {},
   "outputs": [
    {
     "data": {
      "image/png": "[encoded data removed]",
      "text/plain": [
       "<Figure size 432x288 with 1 Axes>"
      ]
     },
     "metadata": {
      "needs_background": "light"
     },
     "output_type": "display_data"
    }
   ],
   "source": [
    "fig, ax = plt.subplots()\n",
    "ax.plot([0.0001,0.001,0.002,0.003,0.005],[G1_c,G2_c,G3_c,G4_c,G5_c])\n",
    "\n",
    "ax.set(xlabel='probablity mean', ylabel='size of largest connected component')\n",
    "\n",
    "\n",
    "plt.show()"
   ]
  },
  {
   "cell_type": "markdown",
   "metadata": {},
   "source": [
    "There is a positive relationship between them."
   ]
  },
  {
   "cell_type": "code",
   "execution_count": null,
   "metadata": {},
   "outputs": [],
   "source": []
  },
  {
   "cell_type": "markdown",
   "metadata": {},
   "source": [
    "2.c) For the same set of graphs, compute the average degree and plot probablity on the x-axis, and average degree on the y-axis\n"
   ]
  },
  {
   "cell_type": "code",
   "execution_count": 16,
   "metadata": {},
   "outputs": [
    {
     "data": {
      "image/png": "[encoded data removed]",
      "text/plain": [
       "<Figure size 432x288 with 1 Axes>"
      ]
     },
     "metadata": {
      "needs_background": "light"
     },
     "output_type": "display_data"
    }
   ],
   "source": [
    "average_degree=[sum(degrees(G1))/len(degrees(G1)),sum(degrees(G2))/len(degrees(G2)),\n",
    "                sum(degrees(G3))/len(degrees(G3)),sum(degrees(G4))/len(degrees(G4)),\n",
    "                sum(degrees(G5))/len(degrees(G5))]\n",
    "\n",
    "fig, ax = plt.subplots()\n",
    "ax.plot([0.0001,0.001,0.002,0.003,0.005],average_degree)\n",
    "\n",
    "ax.set(xlabel='probablity mean', ylabel='average degree')\n",
    "\n",
    "\n",
    "plt.show()"
   ]
  },
  {
   "cell_type": "markdown",
   "metadata": {},
   "source": [
    "2.d) Finally, compute the average size of the small component for each graph G1, ..., G5"
   ]
  },
  {
   "cell_type": "code",
   "execution_count": 27,
   "metadata": {},
   "outputs": [
    {
     "data": {
      "text/plain": [
       "1.0440251572327044"
      ]
     },
     "execution_count": 27,
     "metadata": {},
     "output_type": "execute_result"
    }
   ],
   "source": [
    "G1_average=np.mean([len(c) for c in sorted(nx.connected_components(G1), key=len, reverse=True)][1:])\n",
    "\n",
    "G1_average"
   ]
  },
  {
   "cell_type": "code",
   "execution_count": 29,
   "metadata": {},
   "outputs": [
    {
     "data": {
      "text/plain": [
       "1.883399209486166"
      ]
     },
     "execution_count": 29,
     "metadata": {},
     "output_type": "execute_result"
    }
   ],
   "source": [
    "G2_average=np.mean([len(c) for c in sorted(nx.connected_components(G2), key=len, reverse=True)][1:])\n",
    "\n",
    "G2_average"
   ]
  },
  {
   "cell_type": "code",
   "execution_count": 30,
   "metadata": {},
   "outputs": [
    {
     "data": {
      "text/plain": [
       "1.3151515151515152"
      ]
     },
     "execution_count": 30,
     "metadata": {},
     "output_type": "execute_result"
    }
   ],
   "source": [
    "G3_average=np.mean([len(c) for c in sorted(nx.connected_components(G3), key=len, reverse=True)][1:])\n",
    "\n",
    "G3_average"
   ]
  },
  {
   "cell_type": "code",
   "execution_count": 31,
   "metadata": {},
   "outputs": [
    {
     "data": {
      "text/plain": [
       "1.1"
      ]
     },
     "execution_count": 31,
     "metadata": {},
     "output_type": "execute_result"
    }
   ],
   "source": [
    "G4_average=np.mean([len(c) for c in sorted(nx.connected_components(G4), key=len, reverse=True)][1:])\n",
    "\n",
    "G4_average"
   ]
  },
  {
   "cell_type": "code",
   "execution_count": 32,
   "metadata": {},
   "outputs": [
    {
     "data": {
      "text/plain": [
       "1.0"
      ]
     },
     "execution_count": 32,
     "metadata": {},
     "output_type": "execute_result"
    }
   ],
   "source": [
    "G5_average=np.mean([len(c) for c in sorted(nx.connected_components(G5), key=len, reverse=True)][1:])\n",
    "\n",
    "G5_average"
   ]
  },
  {
   "cell_type": "code",
   "execution_count": null,
   "metadata": {},
   "outputs": [],
   "source": []
  }
 ],
 "metadata": {
  "kernelspec": {
   "display_name": "Python 3",
   "language": "python",
   "name": "python3"
  },
  "language_info": {
   "codemirror_mode": {
    "name": "ipython",
    "version": 3
   },
   "file_extension": ".py",
   "mimetype": "text/x-python",
   "name": "python",
   "nbconvert_exporter": "python",
   "pygments_lexer": "ipython3",
   "version": "3.8.3"
  }
 },
 "nbformat": 4,
 "nbformat_minor": 4
}
