{
 "cells": [
  {
   "cell_type": "code",
   "execution_count": 41,
   "metadata": {},
   "outputs": [],
   "source": [
    "# Required Header\n",
    "%matplotlib inline\n",
    "\n",
    "import matplotlib.pyplot as plt\n",
    "import networkx as nx\n",
    "import numpy as ny"
   ]
  },
  {
   "cell_type": "markdown",
   "metadata": {},
   "source": [
    "## Question 1: \n",
    "(a) Set A is the adjacency matrix, each element Bi of A*1 is $\\sum_{j=1}^{n}(A_{ij}*1)$. Apparently, this sum is equal to the degree of vertex, that is, k."
   ]
  },
  {
   "cell_type": "markdown",
   "metadata": {},
   "source": [
    " (b) $x=(I-\\frac{1}{k}A)^{-1}*\\mathbf{1}=(\\frac{kI-A}{k})^{-1}*\\mathbf{1}\\\\  \n",
    "     (\\frac{kI-A}{k})x=\\mathbf{1}$\n",
    "     for each element xj of x:  \n",
    "     $\\sum_{j=1}^{n}(1-\\frac{1}{k}A_{ij}x_{j})=1 \\\\\n",
    "      \\sum_{j=1}^{n}(\\frac{1}{k}A_{ij}x_{j})=n-1\\\\\n",
    "      x_j=n-1$ is the Katz centrality"
   ]
  },
  {
   "attachments": {},
   "cell_type": "markdown",
   "metadata": {},
   "source": [
    "（c) Closeness Centralities are different among nodes"
   ]
  },
  {
   "cell_type": "code",
   "execution_count": 42,
   "metadata": {},
   "outputs": [
    {
     "data": {
      "text/plain": [
       "{6: 0.5428571428571428,\n",
       " 12: 0.5757575757575758,\n",
       " 18: 0.5428571428571428,\n",
       " 7: 0.5757575757575758,\n",
       " 17: 0.5277777777777778,\n",
       " 16: 0.5428571428571428,\n",
       " 3: 0.5277777777777778,\n",
       " 10: 0.5277777777777778,\n",
       " 5: 0.5588235294117647,\n",
       " 13: 0.5588235294117647,\n",
       " 19: 0.5428571428571428,\n",
       " 8: 0.5428571428571428,\n",
       " 9: 0.5428571428571428,\n",
       " 14: 0.5428571428571428,\n",
       " 15: 0.5588235294117647,\n",
       " 2: 0.5135135135135135,\n",
       " 11: 0.5277777777777778,\n",
       " 1: 0.5277777777777778,\n",
       " 4: 0.5277777777777778,\n",
       " 0: 0.5277777777777778}"
      ]
     },
     "execution_count": 42,
     "metadata": {},
     "output_type": "execute_result"
    }
   ],
   "source": [
    "G1=nx.random_regular_graph(5,20,seed=None)\n",
    "nx.closeness_centrality(G1, u=None, distance=None, wf_improved=True)"
   ]
  },
  {
   "cell_type": "markdown",
   "metadata": {},
   "source": [
    "## Question 2:\n",
    "There are two types of nodes.  \n",
    "The out nodes have the same closeness centralities, which are $\\frac{10-1}{3+2*6}=0.6$\n",
    "The inner nodes have the same closeness centralities, wich are $\\frac{10-1}{3+2*4+3*2}=0.53$"
   ]
  },
  {
   "cell_type": "markdown",
   "metadata": {},
   "source": [
    "## Question 3\n",
    "The centrality is $\\sum_{i=1}^{n-1}(\\beta\\alpha^{d_i}) $"
   ]
  },
  {
   "cell_type": "markdown",
   "metadata": {},
   "source": [
    "## Question 4\n",
    "(a)The left 4-nodes triangle is a 3-core.  \n",
    "(b) The reciprocity is 0.75"
   ]
  },
  {
   "cell_type": "code",
   "execution_count": 43,
   "metadata": {},
   "outputs": [
    {
     "data": {
      "text/plain": [
       "array([[2, 0, 4, 0],\n",
       "       [1, 2, 0, 1],\n",
       "       [1, 1, 1, 1],\n",
       "       [3, 4, 0, 1]])"
      ]
     },
     "execution_count": 43,
     "metadata": {},
     "output_type": "execute_result"
    }
   ],
   "source": [
    "A=ny.array([[0,1,0,1],[1,0,1,0],[1,1,0,0],[1,0,3,0]])\n",
    "b=ny.dot(A,A)\n",
    "b"
   ]
  },
  {
   "cell_type": "code",
   "execution_count": 44,
   "metadata": {},
   "outputs": [
    {
     "data": {
      "text/plain": [
       "0.75"
      ]
     },
     "execution_count": 44,
     "metadata": {},
     "output_type": "execute_result"
    }
   ],
   "source": [
    "R=1/8*(2+2+1+1)\n",
    "R"
   ]
  },
  {
   "cell_type": "markdown",
   "metadata": {},
   "source": [
    "(c)$Similarity=2/2/\\sqrt{5}=0.45$"
   ]
  },
  {
   "cell_type": "markdown",
   "metadata": {},
   "source": [
    "## Question 5\n",
    "(a)The left network is a 3-core in whole. There is no 3-core in right network.   \n",
    "(b) There are five strongly connnected components shown below.\n",
    "\n",
    "![title](Illustration.png)"
   ]
  },
  {
   "cell_type": "markdown",
   "metadata": {},
   "source": [
    "(c) The local clustering coefficients are shown below:\n",
    "\n",
    "![title](Illustration2.png)  "
   ]
  },
  {
   "cell_type": "markdown",
   "metadata": {},
   "source": [
    "(d) The Q is 0.28."
   ]
  },
  {
   "cell_type": "code",
   "execution_count": 45,
   "metadata": {},
   "outputs": [
    {
     "data": {
      "text/plain": [
       "array([[0, 1, 0, 0, 1, 0, 0],\n",
       "       [1, 0, 1, 0, 1, 0, 0],\n",
       "       [0, 1, 0, 1, 0, 1, 1],\n",
       "       [0, 0, 1, 0, 0, 0, 1],\n",
       "       [1, 1, 0, 0, 0, 1, 0],\n",
       "       [0, 0, 1, 0, 1, 0, 1],\n",
       "       [0, 0, 1, 1, 0, 1, 0]])"
      ]
     },
     "execution_count": 45,
     "metadata": {},
     "output_type": "execute_result"
    }
   ],
   "source": [
    "A=ny.array([[0,1,0,0,1,0,0],[1,0,1,0,1,0,0],[0,1,0,1,0,1,1],[0,0,1,0,0,0,1],[1,1,0,0,0,1,0],[0,0,1,0,1,0,1],[0,0,1,1,0,1,0]])\n",
    "A"
   ]
  },
  {
   "cell_type": "code",
   "execution_count": 46,
   "metadata": {},
   "outputs": [
    {
     "data": {
      "text/plain": [
       "array([[-0.2 ,  0.7 , -0.4 , -0.2 ,  0.7 , -0.3 , -0.3 ],\n",
       "       [ 0.7 , -0.45,  0.4 , -0.3 ,  0.55, -0.45, -0.45],\n",
       "       [-0.4 ,  0.4 , -0.8 ,  0.6 , -0.6 ,  0.4 ,  0.4 ],\n",
       "       [-0.2 , -0.3 ,  0.6 , -0.2 , -0.3 , -0.3 ,  0.7 ],\n",
       "       [ 0.7 ,  0.55, -0.6 , -0.3 , -0.45,  0.55, -0.45],\n",
       "       [-0.3 , -0.45,  0.4 , -0.3 ,  0.55, -0.45,  0.55],\n",
       "       [-0.3 , -0.45,  0.4 ,  0.7 , -0.45,  0.55, -0.45]])"
      ]
     },
     "execution_count": 46,
     "metadata": {},
     "output_type": "execute_result"
    }
   ],
   "source": [
    "delta=ny.array([[1,0],[1,0],[0,1],[0,1],[1,0],[0,1],[0,1]])\n",
    "delta\n",
    "d=ny.array([[2],[3],[4],[2],[3],[3],[3]])\n",
    "d\n",
    "d.T\n",
    "B=A-ny.dot(d,d.T)/2/10\n",
    "B"
   ]
  },
  {
   "cell_type": "code",
   "execution_count": 47,
   "metadata": {},
   "outputs": [
    {
     "data": {
      "text/plain": [
       "0.27999999999999997"
      ]
     },
     "execution_count": 47,
     "metadata": {},
     "output_type": "execute_result"
    }
   ],
   "source": [
    "ny.trace(delta.T.dot(B).dot(delta))/2/10"
   ]
  },
  {
   "cell_type": "markdown",
   "metadata": {},
   "source": [
    "(e) The centrality is (n-1)(n-2)"
   ]
  },
  {
   "cell_type": "code",
   "execution_count": null,
   "metadata": {},
   "outputs": [],
   "source": []
  }
 ],
 "metadata": {
  "kernelspec": {
   "display_name": "Python 3",
   "language": "python",
   "name": "python3"
  },
  "language_info": {
   "codemirror_mode": {
    "name": "ipython",
    "version": 3
   },
   "file_extension": ".py",
   "mimetype": "text/x-python",
   "name": "python",
   "nbconvert_exporter": "python",
   "pygments_lexer": "ipython3",
   "version": "3.8.3"
  }
 },
 "nbformat": 4,
 "nbformat_minor": 4
}
