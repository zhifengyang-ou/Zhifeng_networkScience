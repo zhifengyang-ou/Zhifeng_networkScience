{
 "cells": [
  {
   "cell_type": "markdown",
   "metadata": {},
   "source": [
    "# Project 5\n",
    "## CS 5483\n",
    "## Due 5 Dec at 9 am"
   ]
  },
  {
   "cell_type": "markdown",
   "metadata": {},
   "source": [
    "All the import statements"
   ]
  },
  {
   "cell_type": "code",
   "execution_count": 46,
   "metadata": {},
   "outputs": [],
   "source": [
    "import networkx as nx\n",
    "from networkx.algorithms import community\n",
    "import numpy as np\n",
    "from random import sample\n",
    "import itertools\n",
    "import matplotlib.pyplot as plt"
   ]
  },
  {
   "cell_type": "markdown",
   "metadata": {},
   "source": [
    "### Question 1: Community Detection"
   ]
  },
  {
   "cell_type": "markdown",
   "metadata": {},
   "source": [
    "1.a) Create random graphs using barabasi albert model with 1000 nodes and value of m ranging from 1 to 10"
   ]
  },
  {
   "cell_type": "code",
   "execution_count": 3,
   "metadata": {},
   "outputs": [],
   "source": [
    "G1=nx.barabasi_albert_graph(n=200, m=1, seed=1)\n",
    "G2=nx.barabasi_albert_graph(n=200, m=2, seed=1)\n",
    "G3=nx.barabasi_albert_graph(n=200, m=3, seed=1)\n",
    "G4=nx.barabasi_albert_graph(n=200, m=4, seed=1)\n",
    "G5=nx.barabasi_albert_graph(n=200, m=5, seed=1)\n",
    "G6=nx.barabasi_albert_graph(n=200, m=6, seed=1)\n",
    "G7=nx.barabasi_albert_graph(n=200, m=7, seed=1)\n",
    "G8=nx.barabasi_albert_graph(n=200, m=8, seed=1)\n",
    "G9=nx.barabasi_albert_graph(n=200, m=9, seed=1)\n",
    "G10=nx.barabasi_albert_graph(n=200, m=10, seed=1)\n"
   ]
  },
  {
   "cell_type": "code",
   "execution_count": 4,
   "metadata": {},
   "outputs": [
    {
     "data": {
      "text/plain": [
       "<networkx.classes.graph.Graph at 0x18ae8435160>"
      ]
     },
     "execution_count": 4,
     "metadata": {},
     "output_type": "execute_result"
    }
   ],
   "source": []
  },
  {
   "cell_type": "markdown",
   "metadata": {},
   "source": [
    "## 1.b) For each of the graphs created using barabasi model, find the number of communities using Grivan Newman algorithm\n",
    "\n",
    "Reference: https://networkx.org/documentation/stable/reference/algorithms/generated/networkx.algorithms.community.centrality.girvan_newman.html#networkx.algorithms.community.centrality.girvan_newman   \n",
    "__If the algorithm ran n times, there will be n+1 commmunities.__"
   ]
  },
  {
   "cell_type": "code",
   "execution_count": 19,
   "metadata": {},
   "outputs": [
    {
     "data": {
      "text/plain": [
       "[2, 2, 2, 2, 2, 2, 2, 2, 2, 2]"
      ]
     },
     "execution_count": 19,
     "metadata": {},
     "output_type": "execute_result"
    }
   ],
   "source": [
    "comp1=community.girvan_newman(G1, most_valuable_edge=None)\n",
    "\n",
    "comp2=community.girvan_newman(G2, most_valuable_edge=None)\n",
    "\n",
    "comp3=community.girvan_newman(G3, most_valuable_edge=None)\n",
    "\n",
    "comp4=community.girvan_newman(G4, most_valuable_edge=None)\n",
    "\n",
    "comp5=community.girvan_newman(G5, most_valuable_edge=None)\n",
    "\n",
    "comp6=community.girvan_newman(G6, most_valuable_edge=None)\n",
    "\n",
    "comp7=community.girvan_newman(G7, most_valuable_edge=None)\n",
    "\n",
    "\n",
    "comp8=community.girvan_newman(G8, most_valuable_edge=None)\n",
    "\n",
    "comp9=community.girvan_newman(G9, most_valuable_edge=None)\n",
    "\n",
    "\n",
    "comp10=community.girvan_newman(G10, most_valuable_edge=None)\n",
    "[len(next(comp1)),len(next(comp2)),len(next(comp3)),len(next(comp4)),len(next(comp5)),len(next(comp6)),len(next(comp7)),len(next(comp8))\n",
    ",len(next(comp9)),len(next(comp10))]"
   ]
  },
  {
   "cell_type": "markdown",
   "metadata": {},
   "source": [
    "1.c) For each graph calculate the highest modularity score for a maximum of 15 components using the communities created from 1.b)\n",
    "\n",
    "`\n",
    " k = 2\n",
    "comp = girvan_newman(G)\n",
    "for communities in itertools.islice(comp, k):\n",
    "    comms = tuple(sorted(c) for c in communities)\n",
    "    modularity = community.modularity(G, comm)\n",
    "`\n",
    "\n",
    "use this a base code to calculate the maximum modularity up to 15 components. Also, fetch the store the number of components to which the graph exhibits maximum modularity."
   ]
  },
  {
   "cell_type": "code",
   "execution_count": 45,
   "metadata": {},
   "outputs": [],
   "source": [
    "Gall=[G1,G2,G3,G4,G5,G6,G7,G8,G9,G10]\n",
    "m=list(range(10))\n",
    "j=0\n",
    "for G in Gall:\n",
    "\n",
    "    modularity=list(range(15))\n",
    "    k = 15\n",
    "    comp = community.girvan_newman(G)\n",
    "    i=0\n",
    "    for communities in itertools.islice(comp, k):\n",
    "        comms = tuple(sorted(c) for c in communities)\n",
    "        modularity[i] = community.modularity(G, comms)\n",
    "        i=i+1\n",
    "    m[j]=modularity.index(max(modularity))\n",
    "    j=j+1"
   ]
  },
  {
   "cell_type": "code",
   "execution_count": 47,
   "metadata": {},
   "outputs": [
    {
     "name": "stdout",
     "output_type": "stream",
     "text": [
      "the number of components to which the graph exhibits maximum modularity for G1 to G10 is:\n",
      " [12, 12, 14, 14, 14, 14, 14, 13, 10, 6]\n"
     ]
    }
   ],
   "source": [
    "print(\"the number of components to which the graph exhibits maximum modularity for G1 to G10 is:\\n\", m)"
   ]
  },
  {
   "cell_type": "markdown",
   "metadata": {},
   "source": [
    "1.d) For each value of m, plot the number of communities on y-axis and the respective values of m on x-axis."
   ]
  },
  {
   "cell_type": "code",
   "execution_count": 48,
   "metadata": {},
   "outputs": [
    {
     "data": {
      "image/png": "[encoded data removed]",
      "text/plain": [
       "<Figure size 432x288 with 1 Axes>"
      ]
     },
     "metadata": {
      "needs_background": "light"
     },
     "output_type": "display_data"
    }
   ],
   "source": [
    "fig, ax = plt.subplots()\n",
    "ax.plot(range(1,11), m)\n",
    "\n",
    "ax.set(xlabel='m', ylabel=' the number of communities ')\n",
    "\n",
    "plt.show()"
   ]
  },
  {
   "cell_type": "markdown",
   "metadata": {},
   "source": [
    "## Question 2: Network Percolation"
   ]
  },
  {
   "cell_type": "markdown",
   "metadata": {},
   "source": [
    "2.a) Download the following power grid network and store it in a graph H\n",
    "\n",
    "http://networkrepository.com/power-US-Grid.php\n",
    "\n",
    "Find the size of the largest connected component (Giant component) of the graph H\n",
    "\n",
    "It is 4941."
   ]
  },
  {
   "cell_type": "code",
   "execution_count": 51,
   "metadata": {},
   "outputs": [
    {
     "data": {
      "text/plain": [
       "4941"
      ]
     },
     "execution_count": 51,
     "metadata": {},
     "output_type": "execute_result"
    }
   ],
   "source": [
    "H=nx.read_edgelist('power-US-Grid.mtx',comments=\"%\")\n",
    "\n",
    "SIZE=len(sorted(nx.connected_components(H), key=len, reverse=True)[0])\n",
    "SIZE"
   ]
  },
  {
   "cell_type": "code",
   "execution_count": null,
   "metadata": {},
   "outputs": [],
   "source": []
  },
  {
   "cell_type": "markdown",
   "metadata": {},
   "source": [
    "Phi is defined as a occupation probability\n",
    "\n",
    "2.b) Construct 11 subgraphs for the power grid network using the occupation probabilty as a parameter.\n",
    "\n",
    "Perform the operation for phi = 0, 0.1, 0.2, 0.3, ..., 0.9, 1.0\n",
    "\n",
    "The subgraph fro phi=0 is an empty graph"
   ]
  },
  {
   "cell_type": "code",
   "execution_count": 84,
   "metadata": {},
   "outputs": [],
   "source": [
    "phi=[float(i)/10 for i in list((range(0,11)))]"
   ]
  },
  {
   "cell_type": "code",
   "execution_count": 89,
   "metadata": {},
   "outputs": [],
   "source": [
    "G=list(range(10))\n",
    "j=0\n",
    "for i in phi:\n",
    "    if int(len(H.nodes)*i)>0:\n",
    "        G[j]=nx.subgraph(H,list(H.nodes)[0:int(len(H.nodes)*i)])\n",
    "        j=j+1"
   ]
  },
  {
   "cell_type": "code",
   "execution_count": 90,
   "metadata": {},
   "outputs": [
    {
     "data": {
      "text/plain": [
       "[<networkx.classes.graph.Graph at 0x18aeb6b9a30>,\n",
       " <networkx.classes.graph.Graph at 0x18aeb6b94f0>,\n",
       " <networkx.classes.graph.Graph at 0x18aeb6b9c70>,\n",
       " <networkx.classes.graph.Graph at 0x18aeb6b98e0>,\n",
       " <networkx.classes.graph.Graph at 0x18aeb6b9eb0>,\n",
       " <networkx.classes.graph.Graph at 0x18aeb6b9460>,\n",
       " <networkx.classes.graph.Graph at 0x18aead74070>,\n",
       " <networkx.classes.graph.Graph at 0x18aead741c0>,\n",
       " <networkx.classes.graph.Graph at 0x18aead74340>,\n",
       " <networkx.classes.graph.Graph at 0x18aead74490>]"
      ]
     },
     "execution_count": 90,
     "metadata": {},
     "output_type": "execute_result"
    }
   ],
   "source": [
    "G"
   ]
  },
  {
   "cell_type": "markdown",
   "metadata": {},
   "source": [
    "2.c) Find the connected components for all the subgraphs and also the size of the largest connected components for all the subgraphs.\n",
    "\n",
    "Find the ratio of the size of the largest connected component of each subgraphs with the size of the largest connected component in H "
   ]
  },
  {
   "cell_type": "code",
   "execution_count": 98,
   "metadata": {},
   "outputs": [
    {
     "name": "stdout",
     "output_type": "stream",
     "text": [
      "the ratio for phi=0,..1 is\n",
      " [0.0, 0.05160898603521554, 0.12001619105444242, 0.15320785266140458, 0.23679417122040072, 0.49483910139647846, 0.5954260271200162, 0.6790123456790124, 0.6998583282736288, 0.8010524185387573, 1.0]\n"
     ]
    }
   ],
   "source": [
    "len_largest=list(range(10))\n",
    "j=0\n",
    "for Gi in G:\n",
    "    len_largest[j]=len(sorted(nx.connected_components(Gi), key=len, reverse=True)[0])\n",
    "    j=1+j\n",
    "print(\"the ratio for phi=0,..1 is\\n\",[float(i)/SIZE for i in [0]+len_largest])"
   ]
  },
  {
   "cell_type": "markdown",
   "metadata": {},
   "source": [
    "2.d) Let S be the size of the fraction of the giant component, plot S on y-axis and phi on x-axis."
   ]
  },
  {
   "cell_type": "code",
   "execution_count": 101,
   "metadata": {},
   "outputs": [
    {
     "data": {
      "image/png": "[encoded data removed]",
      "text/plain": [
       "<Figure size 432x288 with 1 Axes>"
      ]
     },
     "metadata": {
      "needs_background": "light"
     },
     "output_type": "display_data"
    }
   ],
   "source": [
    "S=list(range(10))\n",
    "j=0\n",
    "for Gi in G:\n",
    "    S[j]=float(len(sorted(nx.connected_components(Gi), key=len, reverse=True)[0]))/len(Gi)\n",
    "    j=1+j\n",
    "\n",
    "fig, ax = plt.subplots()\n",
    "ax.plot(phi[1:11], S)\n",
    "\n",
    "ax.set(xlabel='phi', ylabel=' S ')\n",
    "\n",
    "plt.show()  \n",
    "    "
   ]
  },
  {
   "cell_type": "code",
   "execution_count": 100,
   "metadata": {},
   "outputs": [
    {
     "data": {
      "text/plain": [
       "[0.1, 0.2, 0.3, 0.4, 0.5, 0.6, 0.7, 0.8, 0.9]"
      ]
     },
     "execution_count": 100,
     "metadata": {},
     "output_type": "execute_result"
    }
   ],
   "source": []
  },
  {
   "cell_type": "code",
   "execution_count": null,
   "metadata": {},
   "outputs": [],
   "source": []
  }
 ],
 "metadata": {
  "kernelspec": {
   "display_name": "Python 3",
   "language": "python",
   "name": "python3"
  },
  "language_info": {
   "codemirror_mode": {
    "name": "ipython",
    "version": 3
   },
   "file_extension": ".py",
   "mimetype": "text/x-python",
   "name": "python",
   "nbconvert_exporter": "python",
   "pygments_lexer": "ipython3",
   "version": "3.8.3"
  }
 },
 "nbformat": 4,
 "nbformat_minor": 4
}
